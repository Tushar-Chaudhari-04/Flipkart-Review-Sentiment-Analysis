{
 "cells": [
  {
   "cell_type": "code",
   "execution_count": 3,
   "metadata": {},
   "outputs": [],
   "source": [
    "# !pip install WordCloud"
   ]
  },
  {
   "cell_type": "code",
   "execution_count": 4,
   "metadata": {
    "id": "jNsI5qAkzVng"
   },
   "outputs": [],
   "source": [
    "import warnings\n",
    "warnings.filterwarnings('ignore')\n",
    "import pandas as pd\n",
    "import re\n",
    "import seaborn as sns\n",
    "from sklearn.feature_extraction.text import TfidfVectorizer\n",
    "import matplotlib.pyplot as plt\n",
    "from wordcloud import WordCloud"
   ]
  },
  {
   "cell_type": "code",
   "execution_count": 5,
   "metadata": {
    "colab": {
     "base_uri": "https://localhost:8080/"
    },
    "id": "lMI27Bq_zkEs",
    "outputId": "5414d246-1ab1-47d4-b183-c73df2f5e1df"
   },
   "outputs": [
    {
     "name": "stderr",
     "output_type": "stream",
     "text": [
      "[nltk_data] Downloading package stopwords to\n",
      "[nltk_data]     C:\\Users\\Sarvadnya\\AppData\\Roaming\\nltk_data...\n",
      "[nltk_data]   Package stopwords is already up-to-date!\n"
     ]
    }
   ],
   "source": [
    "import nltk\n",
    "nltk.download('stopwords')\n",
    "from nltk.corpus import stopwords"
   ]
  },
  {
   "cell_type": "code",
   "execution_count": 6,
   "metadata": {
    "colab": {
     "base_uri": "https://localhost:8080/",
     "height": 206
    },
    "id": "F4zZJJyvzlGG",
    "outputId": "5a83696d-0880-4e56-b870-c3c155007149"
   },
   "outputs": [
    {
     "data": {
      "text/html": [
       "<div>\n",
       "<style scoped>\n",
       "    .dataframe tbody tr th:only-of-type {\n",
       "        vertical-align: middle;\n",
       "    }\n",
       "\n",
       "    .dataframe tbody tr th {\n",
       "        vertical-align: top;\n",
       "    }\n",
       "\n",
       "    .dataframe thead th {\n",
       "        text-align: right;\n",
       "    }\n",
       "</style>\n",
       "<table border=\"1\" class=\"dataframe\">\n",
       "  <thead>\n",
       "    <tr style=\"text-align: right;\">\n",
       "      <th></th>\n",
       "      <th>review</th>\n",
       "      <th>rating</th>\n",
       "    </tr>\n",
       "  </thead>\n",
       "  <tbody>\n",
       "    <tr>\n",
       "      <th>0</th>\n",
       "      <td>It was nice produt. I like it's design a lot. ...</td>\n",
       "      <td>5</td>\n",
       "    </tr>\n",
       "    <tr>\n",
       "      <th>1</th>\n",
       "      <td>awesome sound....very pretty to see this nd th...</td>\n",
       "      <td>5</td>\n",
       "    </tr>\n",
       "    <tr>\n",
       "      <th>2</th>\n",
       "      <td>awesome sound quality. pros 7-8 hrs of battery...</td>\n",
       "      <td>4</td>\n",
       "    </tr>\n",
       "    <tr>\n",
       "      <th>3</th>\n",
       "      <td>I think it is such a good product not only as ...</td>\n",
       "      <td>5</td>\n",
       "    </tr>\n",
       "    <tr>\n",
       "      <th>4</th>\n",
       "      <td>awesome bass sound quality very good bettary l...</td>\n",
       "      <td>5</td>\n",
       "    </tr>\n",
       "  </tbody>\n",
       "</table>\n",
       "</div>"
      ],
      "text/plain": [
       "                                              review  rating\n",
       "0  It was nice produt. I like it's design a lot. ...       5\n",
       "1  awesome sound....very pretty to see this nd th...       5\n",
       "2  awesome sound quality. pros 7-8 hrs of battery...       4\n",
       "3  I think it is such a good product not only as ...       5\n",
       "4  awesome bass sound quality very good bettary l...       5"
      ]
     },
     "execution_count": 6,
     "metadata": {},
     "output_type": "execute_result"
    }
   ],
   "source": [
    "data = pd.read_csv('flipkart_data.csv')\n",
    "data.head()"
   ]
  },
  {
   "cell_type": "code",
   "execution_count": 7,
   "metadata": {},
   "outputs": [
    {
     "data": {
      "text/plain": [
       "19952"
      ]
     },
     "execution_count": 7,
     "metadata": {},
     "output_type": "execute_result"
    }
   ],
   "source": [
    "data.size"
   ]
  },
  {
   "cell_type": "code",
   "execution_count": 8,
   "metadata": {
    "colab": {
     "base_uri": "https://localhost:8080/"
    },
    "id": "cBqFEd5szn_x",
    "outputId": "b8bccbf5-1b70-4f3c-f50b-8acfd26aa5ef"
   },
   "outputs": [
    {
     "data": {
      "text/plain": [
       "array([5, 4, 1, 3, 2], dtype=int64)"
      ]
     },
     "execution_count": 8,
     "metadata": {},
     "output_type": "execute_result"
    }
   ],
   "source": [
    "# unique ratings\n",
    "pd.unique(data['rating'])"
   ]
  },
  {
   "cell_type": "code",
   "execution_count": 9,
   "metadata": {
    "colab": {
     "base_uri": "https://localhost:8080/",
     "height": 471
    },
    "id": "KFSnKRHlzo6O",
    "outputId": "2e898216-673a-4c2a-86a3-1fb19fe78b07"
   },
   "outputs": [
    {
     "data": {
      "text/plain": [
       "<Axes: xlabel='rating', ylabel='count'>"
      ]
     },
     "execution_count": 9,
     "metadata": {},
     "output_type": "execute_result"
    },
    {
     "data": {
      "image/png": "[encoded data removed]",
      "text/plain": [
       "<Figure size 640x480 with 1 Axes>"
      ]
     },
     "metadata": {},
     "output_type": "display_data"
    }
   ],
   "source": [
    "sns.countplot(data=data,\n",
    "\t\t\tx='rating',\n",
    "\t\t\torder=data.rating.value_counts().index)"
   ]
  },
  {
   "cell_type": "code",
   "execution_count": 10,
   "metadata": {
    "id": "lPo0AYamzqJ2"
   },
   "outputs": [],
   "source": [
    "# rating label(final)\n",
    "pos_neg = []\n",
    "for i in range(len(data['rating'])):\n",
    "\tif data['rating'][i] >= 4:\n",
    "\t\tpos_neg.append(1)\n",
    "\telse:\n",
    "\t\tpos_neg.append(0)\n",
    "\n",
    "data['label'] = pos_neg"
   ]
  },
  {
   "cell_type": "code",
   "execution_count": 11,
   "metadata": {
    "colab": {
     "base_uri": "https://localhost:8080/"
    },
    "id": "7UnNpiXnzrwG",
    "outputId": "92605781-7c00-47c8-f592-3f7b31a1b38d"
   },
   "outputs": [
    {
     "name": "stderr",
     "output_type": "stream",
     "text": [
      "[nltk_data] Downloading package punkt to\n",
      "[nltk_data]     C:\\Users\\Sarvadnya\\AppData\\Roaming\\nltk_data...\n",
      "[nltk_data]   Package punkt is already up-to-date!\n"
     ]
    }
   ],
   "source": [
    "nltk.download('punkt')\n",
    "from tqdm import tqdm\n",
    "\n",
    "def preprocess_text(text_data):\n",
    "    preprocessed_text = []\n",
    "\n",
    "    for sentence in tqdm(text_data):\n",
    "        # Removing punctuations\n",
    "        sentence = re.sub(r'[^\\w\\s]', '', sentence)\n",
    "\n",
    "        # Converting lowercase and removing stopwords\n",
    "        preprocessed_text.append(' '.join(token.lower() for token in nltk.word_tokenize(sentence)\n",
    "                                if token.lower() not in stopwords.words('english')))\n",
    "\n",
    "    return preprocessed_text"
   ]
  },
  {
   "cell_type": "code",
   "execution_count": 12,
   "metadata": {
    "colab": {
     "base_uri": "https://localhost:8080/"
    },
    "id": "EXdKiMj5ztNE",
    "outputId": "01ad92ec-70d1-46b0-84e8-6d30bfe03f54"
   },
   "outputs": [
    {
     "name": "stderr",
     "output_type": "stream",
     "text": [
      "100%|██████████| 9976/9976 [01:33<00:00, 106.99it/s]\n"
     ]
    }
   ],
   "source": [
    "preprocessed_review = preprocess_text(data['review'].values)\n",
    "data['review'] = preprocessed_review"
   ]
  },
  {
   "cell_type": "code",
   "execution_count": 13,
   "metadata": {
    "colab": {
     "base_uri": "https://localhost:8080/",
     "height": 206
    },
    "id": "EtuzgTL3zuRa",
    "outputId": "d00f466f-54e0-4b09-d74f-e7e50942118e"
   },
   "outputs": [
    {
     "data": {
      "text/html": [
       "<div>\n",
       "<style scoped>\n",
       "    .dataframe tbody tr th:only-of-type {\n",
       "        vertical-align: middle;\n",
       "    }\n",
       "\n",
       "    .dataframe tbody tr th {\n",
       "        vertical-align: top;\n",
       "    }\n",
       "\n",
       "    .dataframe thead th {\n",
       "        text-align: right;\n",
       "    }\n",
       "</style>\n",
       "<table border=\"1\" class=\"dataframe\">\n",
       "  <thead>\n",
       "    <tr style=\"text-align: right;\">\n",
       "      <th></th>\n",
       "      <th>review</th>\n",
       "      <th>rating</th>\n",
       "      <th>label</th>\n",
       "    </tr>\n",
       "  </thead>\n",
       "  <tbody>\n",
       "    <tr>\n",
       "      <th>0</th>\n",
       "      <td>nice produt like design lot easy carry looked ...</td>\n",
       "      <td>5</td>\n",
       "      <td>1</td>\n",
       "    </tr>\n",
       "    <tr>\n",
       "      <th>1</th>\n",
       "      <td>awesome soundvery pretty see nd sound quality ...</td>\n",
       "      <td>5</td>\n",
       "      <td>1</td>\n",
       "    </tr>\n",
       "    <tr>\n",
       "      <th>2</th>\n",
       "      <td>awesome sound quality pros 78 hrs battery life...</td>\n",
       "      <td>4</td>\n",
       "      <td>1</td>\n",
       "    </tr>\n",
       "    <tr>\n",
       "      <th>3</th>\n",
       "      <td>think good product per quality also design qui...</td>\n",
       "      <td>5</td>\n",
       "      <td>1</td>\n",
       "    </tr>\n",
       "    <tr>\n",
       "      <th>4</th>\n",
       "      <td>awesome bass sound quality good bettary long l...</td>\n",
       "      <td>5</td>\n",
       "      <td>1</td>\n",
       "    </tr>\n",
       "  </tbody>\n",
       "</table>\n",
       "</div>"
      ],
      "text/plain": [
       "                                              review  rating  label\n",
       "0  nice produt like design lot easy carry looked ...       5      1\n",
       "1  awesome soundvery pretty see nd sound quality ...       5      1\n",
       "2  awesome sound quality pros 78 hrs battery life...       4      1\n",
       "3  think good product per quality also design qui...       5      1\n",
       "4  awesome bass sound quality good bettary long l...       5      1"
      ]
     },
     "execution_count": 13,
     "metadata": {},
     "output_type": "execute_result"
    }
   ],
   "source": [
    "data.head()"
   ]
  },
  {
   "cell_type": "code",
   "execution_count": 14,
   "metadata": {
    "colab": {
     "base_uri": "https://localhost:8080/",
     "height": 178
    },
    "id": "_SPE2Y75zvX3",
    "outputId": "dba12f96-4ff0-42f7-fae8-bdd4b7a97cb3"
   },
   "outputs": [
    {
     "data": {
      "text/plain": [
       "label\n",
       "1    8091\n",
       "0    1885\n",
       "Name: count, dtype: int64"
      ]
     },
     "execution_count": 14,
     "metadata": {},
     "output_type": "execute_result"
    }
   ],
   "source": [
    "data[\"label\"].value_counts()"
   ]
  },
  {
   "cell_type": "code",
   "execution_count": 15,
   "metadata": {
    "colab": {
     "base_uri": "https://localhost:8080/",
     "height": 337
    },
    "id": "y_-8NNCszwl4",
    "outputId": "6843cf90-bc36-4653-b046-9b4e1032bcdc"
   },
   "outputs": [],
   "source": [
    "# consolidated = ' '.join(\n",
    "# \tword for word in data['review'][data['label'] == 1].astype(str))\n",
    "# wordCloud = WordCloud(width=1600, height=800,\n",
    "# \t\t\t\t\trandom_state=21, max_font_size=110)\n",
    "# plt.figure(figsize=(15, 10))\n",
    "# plt.imshow(wordCloud.generate(consolidated), interpolation='bilinear')\n",
    "# plt.axis('off')\n",
    "# plt.show()"
   ]
  },
  {
   "cell_type": "code",
   "execution_count": 16,
   "metadata": {
    "id": "M81DOgahzz3o"
   },
   "outputs": [],
   "source": [
    "cv = TfidfVectorizer(max_features=2500)\n",
    "X = cv.fit_transform(data['review'] ).toarray()"
   ]
  },
  {
   "cell_type": "code",
   "execution_count": 17,
   "metadata": {
    "colab": {
     "base_uri": "https://localhost:8080/"
    },
    "id": "ZkfkgMKxz1nj",
    "outputId": "ff9b032a-f557-4ec2-e75f-8f57a8c72d8c"
   },
   "outputs": [
    {
     "data": {
      "text/plain": [
       "array([[0., 0., 0., ..., 0., 0., 0.],\n",
       "       [0., 0., 0., ..., 0., 0., 0.],\n",
       "       [0., 0., 0., ..., 0., 0., 0.],\n",
       "       ...,\n",
       "       [0., 0., 0., ..., 0., 0., 0.],\n",
       "       [0., 0., 0., ..., 0., 0., 0.],\n",
       "       [0., 0., 0., ..., 0., 0., 0.]])"
      ]
     },
     "execution_count": 17,
     "metadata": {},
     "output_type": "execute_result"
    }
   ],
   "source": [
    "X"
   ]
  },
  {
   "cell_type": "code",
   "execution_count": 20,
   "metadata": {},
   "outputs": [],
   "source": [
    "import pickle\n",
    "with open('Models/tfid_vectorizer.pkl','wb') as file:\n",
    "   pickle.dump(cv,file)"
   ]
  },
  {
   "cell_type": "code",
   "execution_count": 21,
   "metadata": {
    "id": "yYEdtxScz2p0"
   },
   "outputs": [],
   "source": [
    "from sklearn.model_selection import train_test_split\n",
    "X_train, X_test, y_train, y_test = train_test_split(X, data['label'],\n",
    "\t\t\t\t\t\t\t\t\t\t\t\t\ttest_size=0.33,\n",
    "\t\t\t\t\t\t\t\t\t\t\t\t\tstratify=data['label'],\n",
    "\t\t\t\t\t\t\t\t\t\t\t\t\trandom_state = 42)"
   ]
  },
  {
   "cell_type": "code",
   "execution_count": 22,
   "metadata": {
    "colab": {
     "base_uri": "https://localhost:8080/"
    },
    "id": "kVaYhuNPz3yl",
    "outputId": "33e41379-cc60-4e8b-8967-2dc99ed369c7"
   },
   "outputs": [
    {
     "name": "stdout",
     "output_type": "stream",
     "text": [
      "0.8481627695110842\n",
      "0.8852110537503796\n"
     ]
    }
   ],
   "source": [
    "from sklearn.tree import DecisionTreeClassifier\n",
    "from sklearn.ensemble import RandomForestClassifier\n",
    "from sklearn.metrics import accuracy_score\n",
    "\n",
    "model = DecisionTreeClassifier(random_state=0)\n",
    "model.fit(X_train,y_train)\n",
    "\n",
    "model2=RandomForestClassifier()\n",
    "model2.fit(X_train,y_train)\n",
    "\n",
    "#testing the model\n",
    "pred = model.predict(X_test)\n",
    "print(accuracy_score(y_test,pred))\n",
    "\n",
    "pred2 = model2.predict(X_test)\n",
    "print(accuracy_score(y_test,pred2))"
   ]
  },
  {
   "cell_type": "code",
   "execution_count": 24,
   "metadata": {},
   "outputs": [],
   "source": [
    "with open('Models/decision_tree_classify.pkl','wb') as file:\n",
    "   pickle.dump(model,file)"
   ]
  },
  {
   "cell_type": "code",
   "execution_count": 25,
   "metadata": {},
   "outputs": [],
   "source": [
    "with open('Models/random_forest_classify.pkl','wb') as file:\n",
    "   pickle.dump(model2,file)"
   ]
  },
  {
   "cell_type": "code",
   "execution_count": null,
   "metadata": {
    "colab": {
     "base_uri": "https://localhost:8080/",
     "height": 449
    },
    "id": "vi0ylrCFz49V",
    "outputId": "9a033673-da26-4a34-ae14-fc947d7a183f"
   },
   "outputs": [
    {
     "data": {
      "image/png": "[encoded data removed]",
      "text/plain": [
       "<Figure size 640x480 with 2 Axes>"
      ]
     },
     "metadata": {},
     "output_type": "display_data"
    }
   ],
   "source": [
    "from sklearn import metrics\n",
    "from sklearn.metrics import confusion_matrix\n",
    "cm = confusion_matrix(y_test,pred)\n",
    "\n",
    "cm_display = metrics.ConfusionMatrixDisplay(confusion_matrix = cm,\n",
    "\t\t\t\t\t\t\t\t\t\t\tdisplay_labels = [False, True])\n",
    "\n",
    "cm_display.plot()\n",
    "plt.show()"
   ]
  },
  {
   "cell_type": "code",
   "execution_count": null,
   "metadata": {},
   "outputs": [
    {
     "name": "stderr",
     "output_type": "stream",
     "text": [
      "[nltk_data] Downloading package stopwords to\n",
      "[nltk_data]     C:\\Users\\Sarvadnya\\AppData\\Roaming\\nltk_data...\n",
      "[nltk_data]   Package stopwords is already up-to-date!\n"
     ]
    }
   ],
   "source": [
    "import nltk\n",
    "nltk.download('stopwords')\n",
    "from bs4 import BeautifulSoup\n",
    "import re\n",
    "from nltk.corpus import stopwords\n",
    "\n",
    "\n",
    "def text_preprocesor(text):\n",
    "   ##Removing special characters\n",
    "   text=re.sub('[^a-z A-Z 0-9]','',text)\n",
    "\n",
    "   ##Remove stopwords\n",
    "   text=text.split()\n",
    "   text=[y for y in text if y not in stopwords.words('english')]\n",
    "   text=\" \".join(text)\n",
    "\n",
    "   ## Remove url \n",
    "   text=re.sub(r'(http|https|ftp|ssh)://([\\w_-]+(?:(?:\\.[\\w_-]+)+))([\\w.,@?^=%&:/~+#-]*[\\w@?^=%&/~+#-])?', '' , str(text))\n",
    "\n",
    "   ##Remove html tags\n",
    "   text=BeautifulSoup(text,'lxml').get_text()\n",
    "\n",
    "   return text"
   ]
  },
  {
   "cell_type": "code",
   "execution_count": null,
   "metadata": {},
   "outputs": [],
   "source": [
    "test_data=[\n",
    "   \"This product is amazing! Totally worth the price.\",\n",
    "   \"Worst purchase ever. The quality is terrible.\",\n",
    "   \"It's okay, not the best but not the worst either.\",\n",
    "   \"I absolutely love this! Highly recommended.\",\n",
    "   \"Terrible experience. Will never buy this again.\",\n",
    "   \"Quite decent for the price. Could be better.\",\n",
    "   \"Fantastic product! Exceeded my expectations.\",\n",
    "   \"The product is average, nothing special.\",\n",
    "   \"Completely disappointed. It broke within a week.\",\n",
    "   \"Great value for money. Very satisfied with the purchase.\",\n",
    "]"
   ]
  },
  {
   "cell_type": "code",
   "execution_count": null,
   "metadata": {},
   "outputs": [],
   "source": [
    "sentiments_count=[]\n",
    "def test_reviews(text):\n",
    "   processed_review=text_preprocesor(text)\n",
    "   vectorized_review=cv.transform([processed_review]).toarray()\n",
    "   prediction = model2.predict(vectorized_review)\n",
    "\n",
    "   # Output the prediction\n",
    "   sentiment = \"Positive\" if prediction[0] == 1 else \"Negative\"\n",
    "   sentiments_count.append(sentiment)\n",
    "   print(f\"{text}\")\n",
    "   print(f\"Predicted Sentiment: {sentiment}\")\n",
    "   print(\"\")\n",
    "   return \" \""
   ]
  },
  {
   "cell_type": "code",
   "execution_count": null,
   "metadata": {},
   "outputs": [
    {
     "name": "stdout",
     "output_type": "stream",
     "text": [
      "This product is amazing! Totally worth the price.\n",
      "Predicted Sentiment: Positive\n",
      "\n",
      " \n",
      "Worst purchase ever. The quality is terrible.\n",
      "Predicted Sentiment: Negative\n",
      "\n",
      " \n",
      "It's okay, not the best but not the worst either.\n",
      "Predicted Sentiment: Negative\n",
      "\n",
      " \n",
      "I absolutely love this! Highly recommended.\n",
      "Predicted Sentiment: Positive\n",
      "\n",
      " \n",
      "Terrible experience. Will never buy this again.\n",
      "Predicted Sentiment: Positive\n",
      "\n",
      " \n",
      "Quite decent for the price. Could be better.\n",
      "Predicted Sentiment: Positive\n",
      "\n",
      " \n",
      "Fantastic product! Exceeded my expectations.\n",
      "Predicted Sentiment: Positive\n",
      "\n",
      " \n",
      "The product is average, nothing special.\n",
      "Predicted Sentiment: Negative\n",
      "\n",
      " \n",
      "Completely disappointed. It broke within a week.\n",
      "Predicted Sentiment: Negative\n",
      "\n",
      " \n",
      "Great value for money. Very satisfied with the purchase.\n",
      "Predicted Sentiment: Positive\n",
      "\n",
      " \n"
     ]
    }
   ],
   "source": [
    "for data in test_data:\n",
    "   print(f\"{test_reviews(data)}\")"
   ]
  },
  {
   "cell_type": "code",
   "execution_count": null,
   "metadata": {},
   "outputs": [
    {
     "data": {
      "text/plain": [
       "['Positive',\n",
       " 'Negative',\n",
       " 'Negative',\n",
       " 'Positive',\n",
       " 'Positive',\n",
       " 'Negative',\n",
       " 'Positive',\n",
       " 'Negative',\n",
       " 'Negative',\n",
       " 'Positive']"
      ]
     },
     "execution_count": 23,
     "metadata": {},
     "output_type": "execute_result"
    }
   ],
   "source": [
    "sentiments_count"
   ]
  },
  {
   "cell_type": "code",
   "execution_count": null,
   "metadata": {},
   "outputs": [],
   "source": [
    "# import pickle\n",
    "# with open('reviews_sentiments.pkl','wb') as file:\n",
    "#    pickle.dump(model,file)"
   ]
  },
  {
   "cell_type": "code",
   "execution_count": null,
   "metadata": {},
   "outputs": [],
   "source": [
    "# from sklearn.pipeline import Pipeline\n",
    "\n",
    "# class TextPreprocessor():\n",
    "#    def fit(self,X,y=None):\n",
    "#       return self\n",
    "   \n",
    "#    def transform(self,X):\n",
    "#       return [text_preprocesor(text) for text in X]\n",
    "\n",
    "# sentiment_pipeline=Pipeline([\n",
    "#    ('preprocessor',TextPreprocessor()),\n",
    "#    ('vectorizer',)\n",
    "# ])\n"
   ]
  }
 ],
 "metadata": {
  "colab": {
   "provenance": []
  },
  "kernelspec": {
   "display_name": "Python 3",
   "name": "python3"
  },
  "language_info": {
   "codemirror_mode": {
    "name": "ipython",
    "version": 3
   },
   "file_extension": ".py",
   "mimetype": "text/x-python",
   "name": "python",
   "nbconvert_exporter": "python",
   "pygments_lexer": "ipython3",
   "version": "3.10.0"
  }
 },
 "nbformat": 4,
 "nbformat_minor": 0
}
